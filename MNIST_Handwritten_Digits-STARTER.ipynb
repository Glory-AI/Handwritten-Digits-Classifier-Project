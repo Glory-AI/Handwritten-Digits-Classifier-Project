{
 "cells": [
  {
   "cell_type": "markdown",
   "metadata": {},
   "source": [
    "# Introduction\n",
    "\n",
    "In this project, you will build a neural network of your own design to evaluate the MNIST dataset.\n",
    "\n",
    "Some of the benchmark results on MNIST include can be found [on Yann LeCun's page](https://webcache.googleusercontent.com/search?q=cache:stAVPik6onEJ:yann.lecun.com/exdb/mnist) and include:\n",
    "\n",
    "88% [Lecun et al., 1998](https://hal.science/hal-03926082/document)\n",
    "\n",
    "95.3% [Lecun et al., 1998](https://hal.science/hal-03926082v1/document)\n",
    "\n",
    "99.65% [Ciresan et al., 2011](http://people.idsia.ch/~juergen/ijcai2011.pdf)\n",
    "\n",
    "\n",
    "MNIST is a great dataset for sanity checking your models, since the accuracy levels achieved by large convolutional neural networks and small linear models are both quite high. This makes it important to be familiar with the data.\n",
    "\n",
    "## Installation"
   ]
  },
  {
   "cell_type": "code",
   "execution_count": 2,
   "metadata": {},
   "outputs": [
    {
     "name": "stdout",
     "output_type": "stream",
     "text": [
      "Defaulting to user installation because normal site-packages is not writeable\n",
      "Collecting ipywidgets==8.1.5\n",
      "  Downloading ipywidgets-8.1.5-py3-none-any.whl (139 kB)\n",
      "\u001b[K     |████████████████████████████████| 139 kB 3.2 MB/s eta 0:00:01\n",
      "\u001b[?25hRequirement already satisfied: traitlets>=4.3.1 in /opt/conda/lib/python3.7/site-packages (from ipywidgets==8.1.5->-r requirements.txt (line 1)) (4.3.3)\n",
      "Collecting comm>=0.1.3\n",
      "  Downloading comm-0.1.4-py3-none-any.whl (6.6 kB)\n",
      "Collecting widgetsnbextension~=4.0.12\n",
      "  Downloading widgetsnbextension-4.0.14-py3-none-any.whl (2.2 MB)\n",
      "\u001b[K     |████████████████████████████████| 2.2 MB 42.2 MB/s eta 0:00:01\n",
      "\u001b[?25hCollecting jupyterlab-widgets~=3.0.12\n",
      "  Downloading jupyterlab_widgets-3.0.15-py3-none-any.whl (216 kB)\n",
      "\u001b[K     |████████████████████████████████| 216 kB 83.2 MB/s eta 0:00:01\n",
      "\u001b[?25hRequirement already satisfied: ipython>=6.1.0 in /opt/conda/lib/python3.7/site-packages (from ipywidgets==8.1.5->-r requirements.txt (line 1)) (7.13.0)\n",
      "Requirement already satisfied: ipython-genutils in /opt/conda/lib/python3.7/site-packages (from traitlets>=4.3.1->ipywidgets==8.1.5->-r requirements.txt (line 1)) (0.2.0)\n",
      "Requirement already satisfied: six in /opt/conda/lib/python3.7/site-packages (from traitlets>=4.3.1->ipywidgets==8.1.5->-r requirements.txt (line 1)) (1.16.0)\n",
      "Requirement already satisfied: decorator in /opt/conda/lib/python3.7/site-packages (from traitlets>=4.3.1->ipywidgets==8.1.5->-r requirements.txt (line 1)) (4.4.2)\n",
      "Requirement already satisfied: backcall in /opt/conda/lib/python3.7/site-packages (from ipython>=6.1.0->ipywidgets==8.1.5->-r requirements.txt (line 1)) (0.1.0)\n",
      "Requirement already satisfied: pickleshare in /opt/conda/lib/python3.7/site-packages (from ipython>=6.1.0->ipywidgets==8.1.5->-r requirements.txt (line 1)) (0.7.5)\n",
      "Requirement already satisfied: pygments in /opt/conda/lib/python3.7/site-packages (from ipython>=6.1.0->ipywidgets==8.1.5->-r requirements.txt (line 1)) (2.5.2)\n",
      "Requirement already satisfied: setuptools>=18.5 in /opt/conda/lib/python3.7/site-packages (from ipython>=6.1.0->ipywidgets==8.1.5->-r requirements.txt (line 1)) (45.2.0.post20200209)\n",
      "Requirement already satisfied: pexpect; sys_platform != \"win32\" in /opt/conda/lib/python3.7/site-packages (from ipython>=6.1.0->ipywidgets==8.1.5->-r requirements.txt (line 1)) (4.8.0)\n",
      "Requirement already satisfied: jedi>=0.10 in /opt/conda/lib/python3.7/site-packages (from ipython>=6.1.0->ipywidgets==8.1.5->-r requirements.txt (line 1)) (0.16.0)\n",
      "Requirement already satisfied: prompt-toolkit!=3.0.0,!=3.0.1,<3.1.0,>=2.0.0 in /opt/conda/lib/python3.7/site-packages (from ipython>=6.1.0->ipywidgets==8.1.5->-r requirements.txt (line 1)) (3.0.3)\n",
      "Requirement already satisfied: ptyprocess>=0.5 in /opt/conda/lib/python3.7/site-packages (from pexpect; sys_platform != \"win32\"->ipython>=6.1.0->ipywidgets==8.1.5->-r requirements.txt (line 1)) (0.6.0)\n",
      "Requirement already satisfied: parso>=0.5.2 in /opt/conda/lib/python3.7/site-packages (from jedi>=0.10->ipython>=6.1.0->ipywidgets==8.1.5->-r requirements.txt (line 1)) (0.6.1)\n",
      "Requirement already satisfied: wcwidth in /opt/conda/lib/python3.7/site-packages (from prompt-toolkit!=3.0.0,!=3.0.1,<3.1.0,>=2.0.0->ipython>=6.1.0->ipywidgets==8.1.5->-r requirements.txt (line 1)) (0.1.8)\n",
      "Installing collected packages: comm, widgetsnbextension, jupyterlab-widgets, ipywidgets\n",
      "Successfully installed comm-0.1.4 ipywidgets-8.1.5 jupyterlab-widgets-3.0.15 widgetsnbextension-4.0.14\n"
     ]
    }
   ],
   "source": [
    "# Restart the Kernel after you execute this command.\n",
    "\n",
    "!python -m pip install -r requirements.txt"
   ]
  },
  {
   "cell_type": "markdown",
   "metadata": {},
   "source": [
    "**Important: Restart the Kernel at this moment**"
   ]
  },
  {
   "cell_type": "markdown",
   "metadata": {},
   "source": [
    "## Imports"
   ]
  },
  {
   "cell_type": "code",
   "execution_count": 1,
   "metadata": {},
   "outputs": [],
   "source": [
    "## This cell contains the essential imports you will need – DO NOT CHANGE THE CONTENTS! ##\n",
    "import torch\n",
    "import torch.nn as nn\n",
    "import torch.nn.functional as F\n",
    "import torch.optim as optim\n",
    "import torchvision\n",
    "import torchvision.transforms as transforms\n",
    "import matplotlib.pyplot as plt\n",
    "import numpy as np"
   ]
  },
  {
   "cell_type": "markdown",
   "metadata": {},
   "source": [
    "## Load the Dataset\n",
    "\n",
    "Specify your transforms as a list if you intend to .\n",
    "The transforms module is already loaded as `transforms`.\n",
    "\n",
    "MNIST is fortunately included in the torchvision module.\n",
    "Then, you can create your dataset using the `MNIST` object from `torchvision.datasets` ([the documentation is available here](https://pytorch.org/vision/stable/datasets.html#mnist)).\n",
    "Make sure to specify `download=True`! \n",
    "\n",
    "Once your dataset is created, you'll also need to define a `DataLoader` from the `torch.utils.data` module for both the train and the test set."
   ]
  },
  {
   "cell_type": "code",
   "execution_count": 2,
   "metadata": {},
   "outputs": [
    {
     "name": "stdout",
     "output_type": "stream",
     "text": [
      "Defaulting to user installation because normal site-packages is not writeable\n",
      "Collecting ipywidgets\n",
      "  Downloading ipywidgets-8.1.7-py3-none-any.whl (139 kB)\n",
      "\u001b[K     |████████████████████████████████| 139 kB 2.9 MB/s eta 0:00:01\n",
      "\u001b[?25hCollecting jupyter\n",
      "  Downloading jupyter-1.1.1-py2.py3-none-any.whl (2.7 kB)\n",
      "Collecting tqdm\n",
      "  Downloading tqdm-4.67.1-py3-none-any.whl (78 kB)\n",
      "\u001b[K     |████████████████████████████████| 78 kB 9.9 MB/s  eta 0:00:01\n",
      "\u001b[?25hRequirement already satisfied, skipping upgrade: jupyterlab_widgets~=3.0.15 in /root/.local/lib/python3.7/site-packages (from ipywidgets) (3.0.15)\n",
      "Requirement already satisfied, skipping upgrade: traitlets>=4.3.1 in /opt/conda/lib/python3.7/site-packages (from ipywidgets) (4.3.3)\n",
      "Requirement already satisfied, skipping upgrade: widgetsnbextension~=4.0.14 in /root/.local/lib/python3.7/site-packages (from ipywidgets) (4.0.14)\n",
      "Requirement already satisfied, skipping upgrade: comm>=0.1.3 in /root/.local/lib/python3.7/site-packages (from ipywidgets) (0.1.4)\n",
      "Requirement already satisfied, skipping upgrade: ipython>=6.1.0 in /opt/conda/lib/python3.7/site-packages (from ipywidgets) (7.13.0)\n",
      "Requirement already satisfied, skipping upgrade: ipykernel in /opt/conda/lib/python3.7/site-packages (from jupyter) (5.1.4)\n",
      "Requirement already satisfied, skipping upgrade: jupyterlab in /opt/conda/lib/python3.7/site-packages (from jupyter) (1.0.9)\n",
      "Requirement already satisfied, skipping upgrade: notebook in /opt/conda/lib/python3.7/site-packages (from jupyter) (5.7.4)\n",
      "Requirement already satisfied, skipping upgrade: nbconvert in /opt/conda/lib/python3.7/site-packages (from jupyter) (5.6.1)\n",
      "Collecting jupyter-console\n",
      "  Downloading jupyter_console-6.6.3-py3-none-any.whl (24 kB)\n",
      "Requirement already satisfied, skipping upgrade: decorator in /opt/conda/lib/python3.7/site-packages (from traitlets>=4.3.1->ipywidgets) (4.4.2)\n",
      "Requirement already satisfied, skipping upgrade: six in /opt/conda/lib/python3.7/site-packages (from traitlets>=4.3.1->ipywidgets) (1.16.0)\n",
      "Requirement already satisfied, skipping upgrade: ipython-genutils in /opt/conda/lib/python3.7/site-packages (from traitlets>=4.3.1->ipywidgets) (0.2.0)\n",
      "Requirement already satisfied, skipping upgrade: prompt-toolkit!=3.0.0,!=3.0.1,<3.1.0,>=2.0.0 in /opt/conda/lib/python3.7/site-packages (from ipython>=6.1.0->ipywidgets) (3.0.3)\n",
      "Requirement already satisfied, skipping upgrade: backcall in /opt/conda/lib/python3.7/site-packages (from ipython>=6.1.0->ipywidgets) (0.1.0)\n",
      "Requirement already satisfied, skipping upgrade: pickleshare in /opt/conda/lib/python3.7/site-packages (from ipython>=6.1.0->ipywidgets) (0.7.5)\n",
      "Requirement already satisfied, skipping upgrade: pygments in /opt/conda/lib/python3.7/site-packages (from ipython>=6.1.0->ipywidgets) (2.5.2)\n",
      "Requirement already satisfied, skipping upgrade: jedi>=0.10 in /opt/conda/lib/python3.7/site-packages (from ipython>=6.1.0->ipywidgets) (0.16.0)\n",
      "Requirement already satisfied, skipping upgrade: pexpect; sys_platform != \"win32\" in /opt/conda/lib/python3.7/site-packages (from ipython>=6.1.0->ipywidgets) (4.8.0)\n",
      "Requirement already satisfied, skipping upgrade: setuptools>=18.5 in /opt/conda/lib/python3.7/site-packages (from ipython>=6.1.0->ipywidgets) (45.2.0.post20200209)\n",
      "Requirement already satisfied, skipping upgrade: tornado>=4.2 in /opt/conda/lib/python3.7/site-packages (from ipykernel->jupyter) (5.1.1)\n",
      "Requirement already satisfied, skipping upgrade: jupyter-client in /opt/conda/lib/python3.7/site-packages (from ipykernel->jupyter) (6.0.0)\n",
      "Requirement already satisfied, skipping upgrade: jupyterlab_server~=1.0.0 in /opt/conda/lib/python3.7/site-packages (from jupyterlab->jupyter) (1.0.6)\n",
      "Requirement already satisfied, skipping upgrade: jinja2>=2.10 in /opt/conda/lib/python3.7/site-packages (from jupyterlab->jupyter) (2.11.1)\n",
      "Requirement already satisfied, skipping upgrade: terminado>=0.8.1 in /opt/conda/lib/python3.7/site-packages (from notebook->jupyter) (0.8.3)\n",
      "Requirement already satisfied, skipping upgrade: nbformat in /opt/conda/lib/python3.7/site-packages (from notebook->jupyter) (5.0.4)\n",
      "Requirement already satisfied, skipping upgrade: prometheus-client in /opt/conda/lib/python3.7/site-packages (from notebook->jupyter) (0.7.1)\n",
      "Requirement already satisfied, skipping upgrade: jupyter-core>=4.4.0 in /opt/conda/lib/python3.7/site-packages (from notebook->jupyter) (4.6.3)\n",
      "Requirement already satisfied, skipping upgrade: Send2Trash in /opt/conda/lib/python3.7/site-packages (from notebook->jupyter) (1.5.0)\n",
      "Requirement already satisfied, skipping upgrade: pyzmq>=17 in /opt/conda/lib/python3.7/site-packages (from notebook->jupyter) (19.0.0)\n",
      "Requirement already satisfied, skipping upgrade: pandocfilters>=1.4.1 in /opt/conda/lib/python3.7/site-packages (from nbconvert->jupyter) (1.4.2)\n",
      "Requirement already satisfied, skipping upgrade: defusedxml in /opt/conda/lib/python3.7/site-packages (from nbconvert->jupyter) (0.6.0)\n",
      "Requirement already satisfied, skipping upgrade: mistune<2,>=0.8.1 in /opt/conda/lib/python3.7/site-packages (from nbconvert->jupyter) (0.8.4)\n",
      "Requirement already satisfied, skipping upgrade: bleach in /opt/conda/lib/python3.7/site-packages (from nbconvert->jupyter) (3.1.1)\n",
      "Requirement already satisfied, skipping upgrade: entrypoints>=0.2.2 in /opt/conda/lib/python3.7/site-packages (from nbconvert->jupyter) (0.3)\n",
      "Requirement already satisfied, skipping upgrade: testpath in /opt/conda/lib/python3.7/site-packages (from nbconvert->jupyter) (0.4.4)\n",
      "Requirement already satisfied, skipping upgrade: wcwidth in /opt/conda/lib/python3.7/site-packages (from prompt-toolkit!=3.0.0,!=3.0.1,<3.1.0,>=2.0.0->ipython>=6.1.0->ipywidgets) (0.1.8)\n",
      "Requirement already satisfied, skipping upgrade: parso>=0.5.2 in /opt/conda/lib/python3.7/site-packages (from jedi>=0.10->ipython>=6.1.0->ipywidgets) (0.6.1)\n",
      "Requirement already satisfied, skipping upgrade: ptyprocess>=0.5 in /opt/conda/lib/python3.7/site-packages (from pexpect; sys_platform != \"win32\"->ipython>=6.1.0->ipywidgets) (0.6.0)\n",
      "Requirement already satisfied, skipping upgrade: python-dateutil>=2.1 in /opt/conda/lib/python3.7/site-packages (from jupyter-client->ipykernel->jupyter) (2.8.1)\n",
      "Requirement already satisfied, skipping upgrade: json5 in /opt/conda/lib/python3.7/site-packages (from jupyterlab_server~=1.0.0->jupyterlab->jupyter) (0.9.0)\n",
      "Requirement already satisfied, skipping upgrade: jsonschema>=3.0.1 in /opt/conda/lib/python3.7/site-packages (from jupyterlab_server~=1.0.0->jupyterlab->jupyter) (3.2.0)\n",
      "Requirement already satisfied, skipping upgrade: MarkupSafe>=0.23 in /opt/conda/lib/python3.7/site-packages (from jinja2>=2.10->jupyterlab->jupyter) (1.1.1)\n",
      "Requirement already satisfied, skipping upgrade: webencodings in /opt/conda/lib/python3.7/site-packages (from bleach->nbconvert->jupyter) (0.5.1)\n",
      "Requirement already satisfied, skipping upgrade: pyrsistent>=0.14.0 in /opt/conda/lib/python3.7/site-packages (from jsonschema>=3.0.1->jupyterlab_server~=1.0.0->jupyterlab->jupyter) (0.15.7)\n",
      "Requirement already satisfied, skipping upgrade: importlib-metadata; python_version < \"3.8\" in /opt/conda/lib/python3.7/site-packages (from jsonschema>=3.0.1->jupyterlab_server~=1.0.0->jupyterlab->jupyter) (1.5.0)\n",
      "Requirement already satisfied, skipping upgrade: attrs>=17.4.0 in /opt/conda/lib/python3.7/site-packages (from jsonschema>=3.0.1->jupyterlab_server~=1.0.0->jupyterlab->jupyter) (19.3.0)\n",
      "Requirement already satisfied, skipping upgrade: zipp>=0.5 in /opt/conda/lib/python3.7/site-packages (from importlib-metadata; python_version < \"3.8\"->jsonschema>=3.0.1->jupyterlab_server~=1.0.0->jupyterlab->jupyter) (3.0.0)\n",
      "\u001b[31mERROR: jupyter-console 6.6.3 has requirement ipykernel>=6.14, but you'll have ipykernel 5.1.4 which is incompatible.\u001b[0m\n",
      "\u001b[31mERROR: jupyter-console 6.6.3 has requirement jupyter-client>=7.0.0, but you'll have jupyter-client 6.0.0 which is incompatible.\u001b[0m\n",
      "\u001b[31mERROR: jupyter-console 6.6.3 has requirement jupyter-core!=5.0.*,>=4.12, but you'll have jupyter-core 4.6.3 which is incompatible.\u001b[0m\n",
      "\u001b[31mERROR: jupyter-console 6.6.3 has requirement prompt-toolkit>=3.0.30, but you'll have prompt-toolkit 3.0.3 which is incompatible.\u001b[0m\n",
      "\u001b[31mERROR: jupyter-console 6.6.3 has requirement traitlets>=5.4, but you'll have traitlets 4.3.3 which is incompatible.\u001b[0m\n",
      "Installing collected packages: ipywidgets, jupyter-console, jupyter, tqdm\n",
      "  Attempting uninstall: ipywidgets\n",
      "    Found existing installation: ipywidgets 8.1.5\n",
      "    Uninstalling ipywidgets-8.1.5:\n",
      "      Successfully uninstalled ipywidgets-8.1.5\n"
     ]
    },
    {
     "name": "stdout",
     "output_type": "stream",
     "text": [
      "\u001b[33m  WARNING: The script jupyter-console is installed in '/root/.local/bin' which is not on PATH.\n",
      "  Consider adding this directory to PATH or, if you prefer to suppress this warning, use --no-warn-script-location.\u001b[0m\n",
      "\u001b[33m  WARNING: The script tqdm is installed in '/root/.local/bin' which is not on PATH.\n",
      "  Consider adding this directory to PATH or, if you prefer to suppress this warning, use --no-warn-script-location.\u001b[0m\n",
      "Successfully installed ipywidgets-8.1.7 jupyter-1.1.1 jupyter-console-6.6.3 tqdm-4.67.1\n"
     ]
    }
   ],
   "source": [
    "!pip install --upgrade ipywidgets jupyter tqdm"
   ]
  },
  {
   "cell_type": "code",
   "execution_count": 3,
   "metadata": {},
   "outputs": [
    {
     "name": "stdout",
     "output_type": "stream",
     "text": [
      "Enabling notebook extension jupyter-js-widgets/extension...\n",
      "      - Validating: \u001b[32mOK\u001b[0m\n",
      "Installing /root/.local/lib/python3.7/site-packages/widgetsnbextension/static -> jupyter-js-widgets\n",
      "Making directory: /usr/local/share/jupyter/nbextensions/jupyter-js-widgets/\n",
      "Copying: /root/.local/lib/python3.7/site-packages/widgetsnbextension/static/extension.js -> /usr/local/share/jupyter/nbextensions/jupyter-js-widgets/extension.js\n",
      "Copying: /root/.local/lib/python3.7/site-packages/widgetsnbextension/static/extension.js.map -> /usr/local/share/jupyter/nbextensions/jupyter-js-widgets/extension.js.map\n",
      "Copying: /root/.local/lib/python3.7/site-packages/widgetsnbextension/static/extension.js.LICENSE.txt -> /usr/local/share/jupyter/nbextensions/jupyter-js-widgets/extension.js.LICENSE.txt\n",
      "- Validating: \u001b[32mOK\u001b[0m\n",
      "\n",
      "    To initialize this nbextension in the browser every time the notebook (or other app) loads:\n",
      "    \n",
      "          jupyter nbextension enable widgetsnbextension --py\n",
      "    \n"
     ]
    }
   ],
   "source": [
    "!jupyter nbextension enable --py widgetsnbextension\n",
    "!jupyter nbextension install --py widgetsnbextension\n"
   ]
  },
  {
   "cell_type": "code",
   "execution_count": 4,
   "metadata": {},
   "outputs": [
    {
     "name": "stderr",
     "output_type": "stream",
     "text": [
      "/opt/conda/lib/python3.7/site-packages/torchvision/datasets/mnist.py:498: UserWarning: The given NumPy array is not writable, and PyTorch does not support non-writable tensors. This means writing to this tensor will result in undefined behavior. You may want to copy the array to protect its data or make it writable before converting it to a tensor. This type of warning will be suppressed for the rest of this program. (Triggered internally at  ../torch/csrc/utils/tensor_numpy.cpp:178.)\n",
      "  return torch.from_numpy(parsed.astype(m[2], copy=False)).view(*s)\n"
     ]
    }
   ],
   "source": [
    "# Define transforms\n",
    "## YOUR CODE HERE ##\n",
    "#convert the mnist images from 28*28 grayscale to tensor\n",
    "#transfroms module performs image transformation like normalization,\n",
    "#resizing, colour change etc\n",
    "#the Compose helps  more than one at once\n",
    "transform= transforms.Compose([transforms.ToTensor(), #converts the image from (0,255) to [0,1] tensor\n",
    "#normalization helps to prepare or process data by scaling pixel values\n",
    " #in an image to range [0-1] ;; leads to faster convergence                   \n",
    "transforms.Normalize((0.1307,), (0.3081,))]) #others to 0\n",
    "#the mean and std\n",
    "# Create training set and define training dataloader\n",
    "## YOUR CODE HERE ##\n",
    "train_dataset= torchvision.datasets.MNIST(root= './data',    train= True, transform=transform, download=True)\n",
    "train_loader= torch.utils.data.DataLoader(train_dataset, batch_size=5, shuffle=True)\n",
    "# Create test set and define test dataloader\n",
    "test_dataset= torchvision.datasets.MNIST(root= './data',train= False,transform=transform,download= True)\n",
    "test_loader= torch.utils.data.DataLoader(test_dataset, batch_size=5,shuffle=True)\n",
    "\n",
    "#flattening involves converting nested data, like JSON, or combining data from multiple relational \n",
    "#tables into a single, denormalized table to simplify querying and model input. "
   ]
  },
  {
   "cell_type": "markdown",
   "metadata": {},
   "source": [
    "## Justify your preprocessing\n",
    "\n",
    "In your own words, why did you choose the transforms you chose? If you didn't use any preprocessing steps, why not?"
   ]
  },
  {
   "cell_type": "markdown",
   "metadata": {},
   "source": [
    "**WHY I CHOSE THE PREPRROCESSING STEPS**\n",
    "1. I used ToTensor() to transform the 28 *28 black and white image to a tensor for preparation (machine learning)\n",
    "2. I then normalized the image by scaling the pixel values(0-255) to 0-1 using the mean and standard deviation. This is to ensure faster convergence and to prevent large variations form affecting the learning process.\n",
    "Normalization is also to standardize the input data, making the training process more stable"
   ]
  },
  {
   "cell_type": "markdown",
   "metadata": {},
   "source": [
    "## Explore the Dataset\n",
    "Using matplotlib, numpy, and torch, explore the dimensions of your data.\n",
    "\n",
    "You can view images using the `show5` function defined below – it takes a data loader as an argument.\n",
    "Remember that normalized images will look really weird to you! You may want to try changing your transforms to view images.\n",
    "Typically using no transforms other than `toTensor()` works well for viewing – but not as well for training your network.\n",
    "If `show5` doesn't work, go back and check your code for creating your data loaders and your training/test sets."
   ]
  },
  {
   "cell_type": "code",
   "execution_count": 5,
   "metadata": {},
   "outputs": [],
   "source": [
    "## This cell contains a function for showing 5 images from a dataloader – DO NOT CHANGE THE CONTENTS! ##\n",
    "def show5(img_loader):\n",
    "    dataiter = iter(img_loader)\n",
    "    \n",
    "    batch = next(dataiter)\n",
    "    labels = batch[1][0:5]\n",
    "    images = batch[0][0:5]\n",
    "    for i in range(5):\n",
    "        print(int(labels[i].detach()))\n",
    "    \n",
    "        image = images[i].numpy()\n",
    "        plt.imshow(image.T.squeeze().T)\n",
    "        plt.show()"
   ]
  },
  {
   "cell_type": "code",
   "execution_count": 6,
   "metadata": {},
   "outputs": [
    {
     "name": "stdout",
     "output_type": "stream",
     "text": [
      "8\n"
     ]
    },
    {
     "data": {
      "image/png": "[encoded data removed]",
      "text/plain": [
       "<Figure size 432x288 with 1 Axes>"
      ]
     },
     "metadata": {
      "needs_background": "light"
     },
     "output_type": "display_data"
    },
    {
     "name": "stdout",
     "output_type": "stream",
     "text": [
      "2\n"
     ]
    },
    {
     "data": {
      "image/png": "[encoded data removed]",
      "text/plain": [
       "<Figure size 432x288 with 1 Axes>"
      ]
     },
     "metadata": {
      "needs_background": "light"
     },
     "output_type": "display_data"
    },
    {
     "name": "stdout",
     "output_type": "stream",
     "text": [
      "3\n"
     ]
    },
    {
     "data": {
      "image/png": "[encoded data removed]",
      "text/plain": [
       "<Figure size 432x288 with 1 Axes>"
      ]
     },
     "metadata": {
      "needs_background": "light"
     },
     "output_type": "display_data"
    },
    {
     "name": "stdout",
     "output_type": "stream",
     "text": [
      "3\n"
     ]
    },
    {
     "data": {
      "image/png": "[encoded data removed]",
      "text/plain": [
       "<Figure size 432x288 with 1 Axes>"
      ]
     },
     "metadata": {
      "needs_background": "light"
     },
     "output_type": "display_data"
    },
    {
     "name": "stdout",
     "output_type": "stream",
     "text": [
      "6\n"
     ]
    },
    {
     "data": {
      "image/png": "[encoded data removed]",
      "text/plain": [
       "<Figure size 432x288 with 1 Axes>"
      ]
     },
     "metadata": {
      "needs_background": "light"
     },
     "output_type": "display_data"
    },
    {
     "name": "stdout",
     "output_type": "stream",
     "text": [
      "Image shape: torch.Size([1, 28, 28])\n",
      "Label: 5\n",
      "Test Image shape: torch.Size([1, 28, 28])\n",
      "LAbel: 2\n",
      "Number of training samples: 60000\n",
      "Number of test samples: 10000\n"
     ]
    }
   ],
   "source": [
    "# Explore data\n",
    "## YOUR CODE HERE ##\n",
    "show5(train_loader)\n",
    "image, label = train_dataset[0]\n",
    "print(\"Image shape:\", image.shape)    \n",
    "print(\"Label:\", label)\n",
    "\n",
    "image, label = test_dataset[1]\n",
    "print(\"Test Image shape:\", image.shape)\n",
    "print(\"LAbel:\", label)\n",
    "\n",
    "\n",
    "# Total dataset size\n",
    "print(\"Number of training samples:\", len(train_dataset))\n",
    "print(\"Number of test samples:\", len(test_dataset))\n"
   ]
  },
  {
   "cell_type": "markdown",
   "metadata": {},
   "source": [
    "## Build your Neural Network\n",
    "Using the layers in `torch.nn` (which has been imported as `nn`) and the `torch.nn.functional` module (imported as `F`), construct a neural network based on the parameters of the dataset.\n",
    "Use any architecture you like. \n",
    "\n",
    "*Note*: If you did not flatten your tensors in your transforms or as part of your preprocessing and you are using only `Linear` layers, make sure to use the `Flatten` layer in your network!"
   ]
  },
  {
   "cell_type": "code",
   "execution_count": 7,
   "metadata": {},
   "outputs": [],
   "source": [
    "## YOUR CODE HERE ##\n",
    "#The Role of Flatten:\n",
    "#The Flatten layer reshapes a multi-dimensional input tensor into a one-dimensional tensor (a vector) while\n",
    "#preserving the batch dimension. For example, an input tensor of shape (batch_size, height, width, channels) \n",
    "#would be transformed into (batch_size, height * width * channels). This flattened vector can then be correctly \n",
    "#processed by subsequent Linear layers.\n",
    "#Without Flattening:\n",
    "#If a multi-dimensional tensor is fed directly into a Linear layer without prior flattening, \n",
    "#the network will likely encounter a shape mismatch error, as the Linear layer cannot interpret \n",
    "#the multi-dimensional structure.\n",
    "#Neural networks expect a vector input (1D).\n",
    "#So we flatten each image \n",
    "\n",
    "#Instead of creating nn.ReLU() etc. as layers, you can just call functions from F inside the forward() pass.\n",
    "\n",
    "class MNIST_CNN(nn.Module):\n",
    "    def __init__(self):\n",
    "        super(MNIST_CNN, self).__init__()\n",
    "        \n",
    "        # Convolutional layers (to extract features)\n",
    "        #applies a 2D convolution operation to input data, typically images.\n",
    "        #It uses a sliding window (the kernel or filter) to perform an element-wise multiplication\n",
    "        #and sum-up operation on portions of the input, extracting spatial features like edges and textures\n",
    "        #to recognize patterns in images.\n",
    "        self.conv1 = nn.Conv2d(in_channels=1, out_channels=32, kernel_size=3, padding=1)            #32 out,  28/2=14\n",
    "        self.conv2 = nn.Conv2d(in_channels=32, out_channels=64, kernel_size=3, padding=1)           #64 guys re out 14/2=7\n",
    "        self.pool = nn.MaxPool2d(kernel_size=2, stride=2)  \n",
    "#64 7 *7 neurons\n",
    "        # Fully connected layers (for classification)\n",
    "        self.fc1 = nn.Linear(64 * 7 * 7, 128)   # Hidden layer 1                                           \n",
    "        #28/2- /2= /2(7)  TWO POOLING STEPS FOR INPUT\n",
    "        #64 feature maps\n",
    "        self.fc2 = nn.Linear(128, 64)           # Hidden layer 2 takes in 128 and gives out 64 neurons\n",
    "        self.fc3 = nn.Linear(64, 10)            # Output layer (10 classes for MNIST [0-9 DIGITS])\n",
    "\n",
    "        #forward pass passes the images through model to get predictions\n",
    "    def forward(self, x):\n",
    "        # Feature extraction\n",
    "        #RELU a non linear activation function for neural networks (Rectified Linear Unit)\n",
    "        #pool reduces feature mapping by downsampling\n",
    "        x = self.pool(F.relu(self.conv1(x)))   # Conv1 -> ReLU -> Pool\n",
    "        x = self.pool(F.relu(self.conv2(x)))   # Conv2 -> ReLU -> Pool\n",
    "\n",
    "        # Flatten the 2D feature maps into 1D\n",
    "        x = x.view(-1, 64 * 7 * 7)  \n",
    "\n",
    "        # Classification layers\n",
    "        x = F.relu(self.fc1(x))  # Hidden layer 1 with ReLU\n",
    "        x = F.relu(self.fc2(x))  # Hidden layer 2 with ReLU\n",
    "        x = self.fc3(x)          # Output layer\n",
    "        \n",
    "        x = F.softmax(x, dim=1)\n",
    "#dim=1 means apply softmax across classes for each sample in the batch.\n",
    "#This ensures the outputs are probabilities between 0 and 1.\n",
    "#They also sum to 1 across the 10 classes (digits 0–9).\n",
    "        return x\n",
    "\n"
   ]
  },
  {
   "cell_type": "markdown",
   "metadata": {},
   "source": [
    "Specify a loss function and an optimizer, and instantiate the model.\n",
    "\n",
    "If you use a less common loss function, please note why you chose that loss function in a comment."
   ]
  },
  {
   "cell_type": "code",
   "execution_count": 21,
   "metadata": {},
   "outputs": [],
   "source": [
    "## WE ARE DOING MULTICLASS CLASSIFICATION (0-9)\n",
    "##CPU tensors reside in system RAM, while CUDA tensors reside in GPU memory so if we do not write the\n",
    "##model, images and labels to cuda , cpu will not run it because it is not matching i.e the data in cuda and model on cpu\n",
    "device= torch.device(\"cuda\" if torch.cuda.is_available() else \"cpu\")\n",
    "model= MNIST_CNN()  #instantiating the model\n",
    "model.to(device)\n",
    "criterion= nn.CrossEntropyLoss() #although it is better to not include softmax when working with this because of matching\n",
    "#CrossEntropy is still the best for multiclassification like this\n",
    " \n",
    "\n",
    "# Optimizer updates the weights based on gradients\n",
    "#weights are numerical parameters within a model, such as a neural network, \n",
    "#that determine the strength of the connection between inputs and the output\n",
    "#weights signify the importance of an input in a model's final decision\n",
    "#optimizer = torch.optim.Adam(model.parameters(), lr=0.001)\n",
    "\n",
    "optimizer = torch.optim.Adam(model.parameters(), lr=0.0005)"
   ]
  },
  {
   "cell_type": "markdown",
   "metadata": {},
   "source": [
    "## Running your Neural Network\n",
    "Use whatever method you like to train your neural network, and ensure you record the average loss at each epoch. \n",
    "Don't forget to use `torch.device()` and the `.to()` method for both your model and your data if you are using GPU!\n",
    "\n",
    "If you want to print your loss **during** each epoch, you can use the `enumerate` function and print the loss after a set number of batches. 250 batches works well for most people!"
   ]
  },
  {
   "cell_type": "code",
   "execution_count": 25,
   "metadata": {},
   "outputs": [
    {
     "name": "stdout",
     "output_type": "stream",
     "text": [
      "Epoch [1/10], Step [250/1875], Loss: 1.4612\n",
      "Epoch [1/10], Step [500/1875], Loss: 1.4612\n",
      "Epoch [1/10], Step [750/1875], Loss: 1.4924\n",
      "Epoch [1/10], Step [1000/1875], Loss: 1.4923\n",
      "Epoch [1/10], Step [1250/1875], Loss: 1.4680\n",
      "Epoch [1/10], Step [1500/1875], Loss: 1.5111\n",
      "Epoch [1/10], Step [1750/1875], Loss: 1.4612\n",
      "Epoch [1/10] Training Loss: 1.4727\n",
      "Epoch [2/10], Step [250/1875], Loss: 1.4612\n",
      "Epoch [2/10], Step [500/1875], Loss: 1.4612\n",
      "Epoch [2/10], Step [750/1875], Loss: 1.4612\n",
      "Epoch [2/10], Step [1000/1875], Loss: 1.4612\n",
      "Epoch [2/10], Step [1250/1875], Loss: 1.4612\n",
      "Epoch [2/10], Step [1500/1875], Loss: 1.4612\n",
      "Epoch [2/10], Step [1750/1875], Loss: 1.4612\n",
      "Epoch [2/10] Training Loss: 1.4716\n",
      "Epoch [3/10], Step [250/1875], Loss: 1.4612\n",
      "Epoch [3/10], Step [500/1875], Loss: 1.4612\n",
      "Epoch [3/10], Step [750/1875], Loss: 1.4612\n",
      "Epoch [3/10], Step [1000/1875], Loss: 1.4612\n",
      "Epoch [3/10], Step [1250/1875], Loss: 1.4706\n",
      "Epoch [3/10], Step [1500/1875], Loss: 1.4612\n",
      "Epoch [3/10], Step [1750/1875], Loss: 1.4612\n",
      "Epoch [3/10] Training Loss: 1.4710\n",
      "Epoch [4/10], Step [250/1875], Loss: 1.4612\n",
      "Epoch [4/10], Step [500/1875], Loss: 1.4612\n",
      "Epoch [4/10], Step [750/1875], Loss: 1.4612\n",
      "Epoch [4/10], Step [1000/1875], Loss: 1.4612\n",
      "Epoch [4/10], Step [1250/1875], Loss: 1.4612\n",
      "Epoch [4/10], Step [1500/1875], Loss: 1.4612\n",
      "Epoch [4/10], Step [1750/1875], Loss: 1.4724\n",
      "Epoch [4/10] Training Loss: 1.4706\n",
      "Epoch [5/10], Step [250/1875], Loss: 1.4924\n",
      "Epoch [5/10], Step [500/1875], Loss: 1.4612\n",
      "Epoch [5/10], Step [750/1875], Loss: 1.4632\n",
      "Epoch [5/10], Step [1000/1875], Loss: 1.5351\n",
      "Epoch [5/10], Step [1250/1875], Loss: 1.4612\n",
      "Epoch [5/10], Step [1500/1875], Loss: 1.4612\n",
      "Epoch [5/10], Step [1750/1875], Loss: 1.4920\n",
      "Epoch [5/10] Training Loss: 1.4689\n",
      "Epoch [6/10], Step [250/1875], Loss: 1.4715\n",
      "Epoch [6/10], Step [500/1875], Loss: 1.4612\n",
      "Epoch [6/10], Step [750/1875], Loss: 1.4612\n",
      "Epoch [6/10], Step [1000/1875], Loss: 1.4924\n",
      "Epoch [6/10], Step [1250/1875], Loss: 1.4612\n",
      "Epoch [6/10], Step [1500/1875], Loss: 1.4615\n",
      "Epoch [6/10], Step [1750/1875], Loss: 1.4612\n",
      "Epoch [6/10] Training Loss: 1.4701\n",
      "Epoch [7/10], Step [250/1875], Loss: 1.4612\n",
      "Epoch [7/10], Step [500/1875], Loss: 1.4612\n",
      "Epoch [7/10], Step [750/1875], Loss: 1.4612\n",
      "Epoch [7/10], Step [1000/1875], Loss: 1.4612\n",
      "Epoch [7/10], Step [1250/1875], Loss: 1.4612\n",
      "Epoch [7/10], Step [1500/1875], Loss: 1.4888\n",
      "Epoch [7/10], Step [1750/1875], Loss: 1.4612\n",
      "Epoch [7/10] Training Loss: 1.4695\n",
      "Epoch [8/10], Step [250/1875], Loss: 1.4612\n",
      "Epoch [8/10], Step [500/1875], Loss: 1.4612\n",
      "Epoch [8/10], Step [750/1875], Loss: 1.4612\n",
      "Epoch [8/10], Step [1000/1875], Loss: 1.4823\n",
      "Epoch [8/10], Step [1250/1875], Loss: 1.4612\n",
      "Epoch [8/10], Step [1500/1875], Loss: 1.4612\n",
      "Epoch [8/10], Step [1750/1875], Loss: 1.4914\n",
      "Epoch [8/10] Training Loss: 1.4688\n",
      "Epoch [9/10], Step [250/1875], Loss: 1.4924\n",
      "Epoch [9/10], Step [500/1875], Loss: 1.4924\n",
      "Epoch [9/10], Step [750/1875], Loss: 1.4612\n",
      "Epoch [9/10], Step [1000/1875], Loss: 1.4612\n",
      "Epoch [9/10], Step [1250/1875], Loss: 1.4612\n",
      "Epoch [9/10], Step [1500/1875], Loss: 1.4612\n",
      "Epoch [9/10], Step [1750/1875], Loss: 1.4612\n",
      "Epoch [9/10] Training Loss: 1.4686\n",
      "Epoch [10/10], Step [250/1875], Loss: 1.4612\n",
      "Epoch [10/10], Step [500/1875], Loss: 1.4612\n",
      "Epoch [10/10], Step [750/1875], Loss: 1.4612\n",
      "Epoch [10/10], Step [1000/1875], Loss: 1.4612\n",
      "Epoch [10/10], Step [1250/1875], Loss: 1.4612\n",
      "Epoch [10/10], Step [1500/1875], Loss: 1.4612\n",
      "Epoch [10/10], Step [1750/1875], Loss: 1.4612\n",
      "Epoch [10/10] Training Loss: 1.4683\n"
     ]
    }
   ],
   "source": [
    "#Forward pass: model predicts output.\n",
    "#Loss calculation: compare prediction vs. label.\n",
    "#Zero gradients: clear old gradients.\n",
    "#Backward pass: compute new gradients.\n",
    "#Step: update weights.\n",
    "\n",
    "train_losses = []  \n",
    "## YOUR CODE HERE ##\n",
    "#num_epochs = 5\n",
    "\n",
    "num_epochs = 10 #tuning hyperparameters\n",
    "\n",
    "for epoch in range(num_epochs):\n",
    "    model.train()\n",
    "    running_loss = 0.0\n",
    "    for batch_idx, (images, labels) in enumerate(train_loader):    #Each batch has:images:MNIST digit images (tensor form).\n",
    "#labels: correct digit values (0–9).\n",
    "        images, labels = images.to(device), labels.to(device)\n",
    "\n",
    "        # Forward pass\n",
    "        outputs = model(images)\n",
    "        loss = criterion(outputs, labels)\n",
    "\n",
    "        # Backpropagation and optimization\n",
    "        optimizer.zero_grad()  #ensures that old gradientts from previous batches are cleared to avoid accumulation\n",
    "        loss.backward()  #calculate how much each parameter contributed tot he error\n",
    "        optimizer.step()  #updates the weights using the previously defined Adam optimizer\n",
    "        running_loss += loss.item()  \n",
    "    \n",
    "\n",
    "        # Print progress every 250 batches\n",
    "        if (batch_idx + 1) % 250 == 0:\n",
    "            print(f\"Epoch [{epoch+1}/{num_epochs}], Step [{batch_idx+1}/{len(train_loader)}], Loss: {loss.item():.4f}\")\n",
    "    # Compute average epoch loss\n",
    "    avg_loss = running_loss / len(train_loader)\n",
    "    train_losses.append(avg_loss)\n",
    "    print(f\"Epoch [{epoch+1}/{num_epochs}] Training Loss: {avg_loss:.4f}\")        \n"
   ]
  },
  {
   "cell_type": "markdown",
   "metadata": {},
   "source": [
    "Plot the training loss (and validation loss/accuracy, if recorded)."
   ]
  },
  {
   "cell_type": "code",
   "execution_count": 26,
   "metadata": {},
   "outputs": [
    {
     "data": {
      "image/png": "[encoded data removed]",
      "text/plain": [
       "<Figure size 432x288 with 1 Axes>"
      ]
     },
     "metadata": {
      "needs_background": "light"
     },
     "output_type": "display_data"
    }
   ],
   "source": [
    "## YOUR CODE HERE ##\n",
    "plt.plot(range(1, num_epochs+1), train_losses, marker='o', label=\"Training Loss\")\n",
    "plt.xlabel(\"Epochs\")\n",
    "plt.ylabel(\"Loss\")\n",
    "plt.title(\"Training Loss per Epoch\")\n",
    "plt.legend()\n",
    "plt.show()"
   ]
  },
  {
   "cell_type": "markdown",
   "metadata": {},
   "source": [
    "## Testing your model\n",
    "Using the previously created `DataLoader` for the test set, compute the percentage of correct predictions using the highest probability prediction. \n",
    "\n",
    "If your accuracy is over 90%, great work, but see if you can push a bit further! \n",
    "If your accuracy is under 90%, you'll need to make improvements.\n",
    "Go back and check your model architecture, loss function, and optimizer to make sure they're appropriate for an image classification task."
   ]
  },
  {
   "cell_type": "code",
   "execution_count": 27,
   "metadata": {},
   "outputs": [
    {
     "name": "stdout",
     "output_type": "stream",
     "text": [
      "Test Loss: 1.4714, Test Accuracy: 98.98%\n"
     ]
    }
   ],
   "source": [
    "## YOUR CODE HERE ##\n",
    "model.eval()  # evaluation mode (important for dropout/batchnorm)\n",
    "correct = 0\n",
    "total = 0\n",
    "test_loss = 0.0\n",
    "\n",
    "with torch.no_grad():  # no backpropagation here since we are not updating weights, just testing\n",
    "    for images, labels in test_loader:\n",
    "        images, labels = images.to(device), labels.to(device)\n",
    "\n",
    "        # Forward pass\n",
    "        outputs = model(images)\n",
    "        loss = criterion(outputs, labels)   # compute test loss\n",
    "        test_loss += loss.item()\n",
    "\n",
    "        # Get predictions\n",
    "        _,predicted = torch.max(outputs.data, 1)\n",
    "\n",
    "        # Update counts initialized earlier\n",
    "        total += labels.size(0)\n",
    "        correct += (predicted == labels).sum().item()\n",
    "\n",
    "# Compute final metrics\n",
    "avg_test_loss = test_loss / len(test_loader)\n",
    "accuracy = 100 * correct / total\n",
    "\n",
    "print(f\"Test Loss: {avg_test_loss:.4f}, Test Accuracy: {accuracy:.2f}%\")"
   ]
  },
  {
   "cell_type": "markdown",
   "metadata": {},
   "source": [
    "## Improving your model\n",
    "\n",
    "Once your model is done training, try tweaking your hyperparameters and training again below to improve your accuracy on the test set!"
   ]
  },
  {
   "cell_type": "code",
   "execution_count": 17,
   "metadata": {},
   "outputs": [],
   "source": [
    "## YOUR CODE HERE ##\n",
    "batch_size = 32    #balances speed stabiility and generalization\n",
    "train_loader = torch.utils.data.DataLoader(train_dataset, batch_size=batch_size, shuffle=True)\n",
    "test_loader = torch.utils.data.DataLoader(test_dataset, batch_size=batch_size, shuffle=False)\n",
    "\n",
    "#learning rate and batch size are linked\n",
    "#and have been tuneed accoringly in above cells\n",
    "#good learning rate 0.0005 and 32 batch size helped model achieve 98%\n",
    "#from o.oo1 and 5 tha gave 96% AND 0.001 and 32 that gave 95%\n",
    "#then 10 epochs 0.0005 rate 32 batch size gave model 98.98% accuracyyy"
   ]
  },
  {
   "cell_type": "markdown",
   "metadata": {},
   "source": [
    "## Saving your model\n",
    "Using `torch.save`, save your model for future loading."
   ]
  },
  {
   "cell_type": "code",
   "execution_count": 28,
   "metadata": {},
   "outputs": [],
   "source": [
    "## YOUR CODE HERE ##\n",
    "#torch.save(model)\n",
    "torch.save(model.state_dict(), \"cnn_mnist.pth\")"
   ]
  },
  {
   "cell_type": "code",
   "execution_count": null,
   "metadata": {},
   "outputs": [],
   "source": []
  }
 ],
 "metadata": {
  "kernelspec": {
   "display_name": "Python 3",
   "language": "python",
   "name": "python3"
  },
  "language_info": {
   "codemirror_mode": {
    "name": "ipython",
    "version": 3
   },
   "file_extension": ".py",
   "mimetype": "text/x-python",
   "name": "python",
   "nbconvert_exporter": "python",
   "pygments_lexer": "ipython3",
   "version": "3.7.6"
  }
 },
 "nbformat": 4,
 "nbformat_minor": 4
}
